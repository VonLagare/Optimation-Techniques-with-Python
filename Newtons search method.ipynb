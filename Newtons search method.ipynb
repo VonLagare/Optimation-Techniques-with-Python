{
 "metadata": {
  "language_info": {
   "codemirror_mode": {
    "name": "ipython",
    "version": 3
   },
   "file_extension": ".py",
   "mimetype": "text/x-python",
   "name": "python",
   "nbconvert_exporter": "python",
   "pygments_lexer": "ipython3",
   "version": "3.8.5-final"
  },
  "orig_nbformat": 2,
  "kernelspec": {
   "name": "python_defaultSpec_1600234998380",
   "display_name": "Python 3.8.5 64-bit"
  }
 },
 "nbformat": 4,
 "nbformat_minor": 2,
 "cells": [
  {
   "cell_type": "code",
   "execution_count": 2,
   "metadata": {
    "tags": []
   },
   "outputs": [
    {
     "output_type": "stream",
     "name": "stdout",
     "text": "0     -200     -2686467.6666666665     40199     -133.17078368450294\n\n1     -133.17078368450294     -795972.2648387101     17866.628410829177     -88.62000182818684\n\n2     -88.62000182818684     -235831.66669385944     7941.124725856027     -58.92248732800532\n\n3     -58.92248732800532     -69868.20665399193     3529.7820002469525     -39.12857182582876\n\n4     -39.12857182582876     -20696.597148147084     1569.1737049548688     -25.939084210279947\n\n5     -25.939084210279947     -6129.062957161576     697.7751738782745     -17.155362480692045\n\n6     -17.155362480692045     -1813.975879555506     310.4618243246283     -11.312531776783155\n\n7     -11.312531776783155     -536.2417803370598     138.2859069775118     -7.434755710822477\n\n8     -7.434755710822477     -158.18988281460034     61.71034819042992     -4.871330167890076\n\n9     -4.871330167890076     -46.525589044075886     27.60118777248603     -3.1856929617096057\n\n10     -3.1856929617096057     -13.665443492133704     12.334332607995725     -2.0777737960406757\n\n11     -2.0777737960406757     -4.070814367008861     5.394917743553955     -1.3232091185953487\n\n12     -1.3232091185953487     -1.3244932403720842     2.0740914901292284     -0.6846195256697444\n\n13     -0.6846195256697444     -0.6566937012028389     0.15332342059801007     3.5984423747334993\n\n14     3.5984423747334993     4.458985772721409     8.350345149544166     3.06445417510024\n\n15     3.06445417510024     0.832745982088205     5.326425216189053     2.9081117975602027\n\n16     2.9081117975602027     0.06140897460852468     4.549002429548631     2.894612359923143\n\nX is equal to 2.894612359923143\n"
    }
   ],
   "source": [
    "# module taht automatically find derivative of a function\n",
    "from sympy import *\n",
    "\n",
    "x = symbols('x')\n",
    "def newtonsMethod(xn , epsilon, f):\n",
    "    iteration = 0\n",
    "    newXn = 0\n",
    "    fPrime = f.diff(x)\n",
    "    f = lambdify(x, f)\n",
    "    fPrime = lambdify(x, fPrime)\n",
    "\n",
    "    # while fxn is not equal to the given epsilon\n",
    "    while abs(f(xn))>epsilon:\n",
    "        newXn = xn-(f(xn)/fPrime(xn))\n",
    "        print(iteration,'   ', xn,'   ', f(xn),'   ', fPrime(xn),'   ', newXn)\n",
    "        print('')\n",
    "        iteration +=1\n",
    "        xn=newXn\n",
    "        if(abs(f(xn))<epsilon):\n",
    "            print('X is equal to '+ str(newXn))\n",
    "\n",
    "# Type the given here\n",
    "# f = x**3-x**2+2\n",
    "f = (x**3/3)-(x**2/2)-x-1\n",
    "# insert all the given\n",
    "newtonsMethod(-200, .001, f)\n",
    "\n",
    "\n",
    "\n",
    "\n",
    "\n",
    "\n",
    "\n"
   ]
  },
  {
   "cell_type": "code",
   "execution_count": null,
   "metadata": {},
   "outputs": [],
   "source": []
  }
 ]
}